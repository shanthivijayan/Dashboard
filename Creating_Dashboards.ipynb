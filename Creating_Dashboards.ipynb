{
  "nbformat": 4,
  "nbformat_minor": 0,
  "metadata": {
    "colab": {
      "provenance": [],
      "authorship_tag": "ABX9TyMCdPiD5iXoWP37kKhrKBFv",
      "include_colab_link": true
    },
    "kernelspec": {
      "name": "python3",
      "display_name": "Python 3"
    },
    "language_info": {
      "name": "python"
    }
  },
  "cells": [
    {
      "cell_type": "markdown",
      "metadata": {
        "id": "view-in-github",
        "colab_type": "text"
      },
      "source": [
        "<a href=\"https://colab.research.google.com/github/shanthivijayan/Dashboard/blob/main/Creating_Dashboards.ipynb\" target=\"_parent\"><img src=\"https://colab.research.google.com/assets/colab-badge.svg\" alt=\"Open In Colab\"/></a>"
      ]
    },
    {
      "cell_type": "code",
      "execution_count": 1,
      "metadata": {
        "colab": {
          "base_uri": "https://localhost:8080/",
          "height": 1000
        },
        "id": "3SOsnkCBTJMv",
        "outputId": "8d352fb2-a319-40e5-dffc-e503729a858a"
      },
      "outputs": [
        {
          "output_type": "stream",
          "name": "stdout",
          "text": [
            "Collecting dash\n",
            "  Downloading dash-2.16.1-py3-none-any.whl (10.2 MB)\n",
            "\u001b[2K     \u001b[90m━━━━━━━━━━━━━━━━━━━━━━━━━━━━━━━━━━━━━━━━\u001b[0m \u001b[32m10.2/10.2 MB\u001b[0m \u001b[31m13.2 MB/s\u001b[0m eta \u001b[36m0:00:00\u001b[0m\n",
            "\u001b[?25hRequirement already satisfied: Flask<3.1,>=1.0.4 in /usr/local/lib/python3.10/dist-packages (from dash) (2.2.5)\n",
            "Requirement already satisfied: Werkzeug<3.1 in /usr/local/lib/python3.10/dist-packages (from dash) (3.0.1)\n",
            "Requirement already satisfied: plotly>=5.0.0 in /usr/local/lib/python3.10/dist-packages (from dash) (5.15.0)\n",
            "Collecting dash-html-components==2.0.0 (from dash)\n",
            "  Downloading dash_html_components-2.0.0-py3-none-any.whl (4.1 kB)\n",
            "Collecting dash-core-components==2.0.0 (from dash)\n",
            "  Downloading dash_core_components-2.0.0-py3-none-any.whl (3.8 kB)\n",
            "Collecting dash-table==5.0.0 (from dash)\n",
            "  Downloading dash_table-5.0.0-py3-none-any.whl (3.9 kB)\n",
            "Requirement already satisfied: importlib-metadata in /usr/local/lib/python3.10/dist-packages (from dash) (7.1.0)\n",
            "Requirement already satisfied: typing-extensions>=4.1.1 in /usr/local/lib/python3.10/dist-packages (from dash) (4.10.0)\n",
            "Requirement already satisfied: requests in /usr/local/lib/python3.10/dist-packages (from dash) (2.31.0)\n",
            "Collecting retrying (from dash)\n",
            "  Downloading retrying-1.3.4-py3-none-any.whl (11 kB)\n",
            "Requirement already satisfied: nest-asyncio in /usr/local/lib/python3.10/dist-packages (from dash) (1.6.0)\n",
            "Requirement already satisfied: setuptools in /usr/local/lib/python3.10/dist-packages (from dash) (67.7.2)\n",
            "Requirement already satisfied: Jinja2>=3.0 in /usr/local/lib/python3.10/dist-packages (from Flask<3.1,>=1.0.4->dash) (3.1.3)\n",
            "Requirement already satisfied: itsdangerous>=2.0 in /usr/local/lib/python3.10/dist-packages (from Flask<3.1,>=1.0.4->dash) (2.1.2)\n",
            "Requirement already satisfied: click>=8.0 in /usr/local/lib/python3.10/dist-packages (from Flask<3.1,>=1.0.4->dash) (8.1.7)\n",
            "Requirement already satisfied: tenacity>=6.2.0 in /usr/local/lib/python3.10/dist-packages (from plotly>=5.0.0->dash) (8.2.3)\n",
            "Requirement already satisfied: packaging in /usr/local/lib/python3.10/dist-packages (from plotly>=5.0.0->dash) (24.0)\n",
            "Requirement already satisfied: MarkupSafe>=2.1.1 in /usr/local/lib/python3.10/dist-packages (from Werkzeug<3.1->dash) (2.1.5)\n",
            "Requirement already satisfied: zipp>=0.5 in /usr/local/lib/python3.10/dist-packages (from importlib-metadata->dash) (3.18.1)\n",
            "Requirement already satisfied: charset-normalizer<4,>=2 in /usr/local/lib/python3.10/dist-packages (from requests->dash) (3.3.2)\n",
            "Requirement already satisfied: idna<4,>=2.5 in /usr/local/lib/python3.10/dist-packages (from requests->dash) (3.6)\n",
            "Requirement already satisfied: urllib3<3,>=1.21.1 in /usr/local/lib/python3.10/dist-packages (from requests->dash) (2.0.7)\n",
            "Requirement already satisfied: certifi>=2017.4.17 in /usr/local/lib/python3.10/dist-packages (from requests->dash) (2024.2.2)\n",
            "Requirement already satisfied: six>=1.7.0 in /usr/local/lib/python3.10/dist-packages (from retrying->dash) (1.16.0)\n",
            "Installing collected packages: dash-table, dash-html-components, dash-core-components, retrying, dash\n",
            "Successfully installed dash-2.16.1 dash-core-components-2.0.0 dash-html-components-2.0.0 dash-table-5.0.0 retrying-1.3.4\n"
          ]
        },
        {
          "output_type": "display_data",
          "data": {
            "text/plain": [
              "<IPython.core.display.Javascript object>"
            ],
            "application/javascript": [
              "(async (port, path, width, height, cache, element) => {\n",
              "    if (!google.colab.kernel.accessAllowed && !cache) {\n",
              "      return;\n",
              "    }\n",
              "    element.appendChild(document.createTextNode(''));\n",
              "    const url = await google.colab.kernel.proxyPort(port, {cache});\n",
              "    const iframe = document.createElement('iframe');\n",
              "    iframe.src = new URL(path, url).toString();\n",
              "    iframe.height = height;\n",
              "    iframe.width = width;\n",
              "    iframe.style.border = 0;\n",
              "    iframe.allow = [\n",
              "        'accelerometer',\n",
              "        'autoplay',\n",
              "        'camera',\n",
              "        'clipboard-read',\n",
              "        'clipboard-write',\n",
              "        'gyroscope',\n",
              "        'magnetometer',\n",
              "        'microphone',\n",
              "        'serial',\n",
              "        'usb',\n",
              "        'xr-spatial-tracking',\n",
              "    ].join('; ');\n",
              "    element.appendChild(iframe);\n",
              "  })(8050, \"/\", \"100%\", 650, false, window.element)"
            ]
          },
          "metadata": {}
        }
      ],
      "source": [
        "!pip install dash\n",
        "import pandas as pd\n",
        "import dash\n",
        "from dash import html, dcc\n",
        "from dash.dependencies import Input, Output, State\n",
        "import plotly.graph_objects as go\n",
        "import plotly.express as px\n",
        "from dash import no_update\n",
        "import datetime as dt\n",
        "#Create app\n",
        "app = dash.Dash(__name__)\n",
        "#Clear the layout and do not display exception till callback gets executed\n",
        "app.config.suppress_callback_exceptions = True\n",
        "# Read the wildfire data into pandas dataframe\n",
        "df =  pd.read_csv('https://cf-courses-data.s3.us.cloud-object-storage.appdomain.cloud/IBMDeveloperSkillsNetwork-DV0101EN-SkillsNetwork/Data%20Files/Historical_Wildfires.csv')\n",
        "#Extract year and month from the date column\n",
        "df['Month'] = pd.to_datetime(df['Date']).dt.month_name() #used for the names of the months\n",
        "df['Year'] = pd.to_datetime(df['Date']).dt.year\n",
        "#Layout Section of Dash\n",
        "#Task 1 Add the Title to the Dashboard\n",
        "app.layout = html.Div(children=[html.H1('Australia Wildfire Dashboard',\n",
        "                                style={'textAlign': 'center', 'color': '#503D36',\n",
        "                                'font-size': 26}),\n",
        "# TASK 2: Add the radio items and a dropdown right below the first inner division\n",
        "     #outer division starts\n",
        "     html.Div([\n",
        "                   # First inner divsion for  adding dropdown helper text for Selected Drive wheels\n",
        "                    html.Div([\n",
        "                            html.H2('Select Region:', style={'margin-right': '2em'}),\n",
        "\n",
        "                    #Radio items to select the region\n",
        "                    #dcc.RadioItems(['NSW','QL','SA','TA','VI','WA'], 'NSW', id='region',inline=True)]),\n",
        "                    dcc.RadioItems([{\"label\":\"New South Wales\",\"value\": \"NSW\"},\n",
        "                                    {\"label\":\"Northern Territory\",\"value\": \"NT\"},\n",
        "                                    {\"label\":\"Queensland\",\"value\": \"QL\"},\n",
        "                                    {\"label\":\"South Australia\",\"value\": \"SA\"},\n",
        "                                    {\"label\":\"Tasmania\",\"value\": \"TA\"},\n",
        "                                    {\"label\":\"Victoria\",\"value\": \"VI\"},\n",
        "                                    {\"label\":\"Western Australia\",\"value\": \"WA\"}],\"NSW\", id='region',inline=True)]),\n",
        "                    #Dropdown to select year\n",
        "                    html.Div([\n",
        "                            html.H2('Select Year:', style={'margin-right': '2em'}),\n",
        "                        dcc.Dropdown(df.Year.unique(), value = 2005,id='year')\n",
        "                    ]),\n",
        "#TASK 3: Add two empty divisions for output inside the next inner division.\n",
        "         #Second Inner division for adding 2 inner divisions for 2 output graphs\n",
        "                    html.Div([\n",
        "\n",
        "                        html.Div([ ], id='plot1'),\n",
        "                        html.Div([ ], id='plot2')\n",
        "                    ], style={'display': 'flex'}),\n",
        "\n",
        "    ])\n",
        "    #outer division ends\n",
        "\n",
        "])\n",
        "#layout ends\n",
        "#TASK 4: Add the Ouput and input components inside the app.callback decorator.\n",
        "#Place to add @app.callback Decorator\n",
        "@app.callback([Output(component_id='plot1', component_property='children'),\n",
        "               Output(component_id='plot2', component_property='children')],\n",
        "               [Input(component_id='region', component_property='value'),\n",
        "                Input(component_id='year', component_property='value')])\n",
        "#TASK 5: Add the callback function.\n",
        "#Place to define the callback function .\n",
        "def reg_year_display(input_region,input_year):\n",
        "    #data\n",
        "   region_data = df[df['Region'] == input_region]\n",
        "   y_r_data = region_data[region_data['Year']==input_year]\n",
        "    #Plot one - Monthly Average Estimated Fire Area\n",
        "   est_data = y_r_data.groupby('Month')['Estimated_fire_area'].mean().reset_index()\n",
        "   fig1 = px.pie(est_data, values='Estimated_fire_area', names='Month', title=\"{} : Monthly Average Estimated Fire Area in year {}\".format(input_region,input_year))\n",
        "     #Plot two - Monthly Average Count of Pixels for Presumed Vegetation Fires\n",
        "   veg_data = y_r_data.groupby('Month')['Count'].mean().reset_index()\n",
        "   fig2 = px.bar(veg_data, x='Month', y='Count', title='{} : Average Count of Pixels for Presumed Vegetation Fires in year {}'.format(input_region,input_year))\n",
        "   return [dcc.Graph(figure=fig1),\n",
        "            dcc.Graph(figure=fig2) ]\n",
        "if __name__ == '__main__':\n",
        "    app.run_server()\n",
        ""
      ]
    }
  ]
}